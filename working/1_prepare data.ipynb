{
 "cells": [
  {
   "cell_type": "markdown",
   "metadata": {},
   "source": [
    "# 1. Preparing data"
   ]
  },
  {
   "cell_type": "code",
   "execution_count": 247,
   "metadata": {},
   "outputs": [],
   "source": [
    "import os\n",
    "import pandas as pd\n",
    "import numpy as np\n",
    "import matplotlib.pyplot as plt\n",
    "import seaborn as sns\n",
    "import datetime"
   ]
  },
  {
   "cell_type": "markdown",
   "metadata": {},
   "source": [
    "**Data sources:**\n",
    "* AUD_USD: https://au.investing.com/currencies/aud-usd-historical-data\n",
    "* [Archive] Brent Crude: https://datahub.io/core/oil-prices#data (else https://fred.stlouisfed.org/series/DCOILBRENTEU)\n",
    "* Crude WTI Spot price: https://www.eia.gov/dnav/pet/PET_PRI_SPT_S1_D.htm -> https://www.eia.gov/dnav/pet/hist/RWTCD.htm -> daily https://www.reuters.com/quote/CLc1\n",
    "* Fuelprices WA SoR: https://www.fuelwatch.wa.gov.au/fuelwatch/pages/public/historicalFileDownloadRetail.jspx\n",
    "* Singapore fuel price: https://www.barchart.com/futures/quotes/JV0Z15/price-history/historical\n",
    "\n",
    "\n",
    "**Info sources:**\n",
    "* What impacts fuel prices? https://www.accc.gov.au/consumers/petrol-diesel-lpg/about-fuel-prices\n",
    "* In the long-run petrol prices are mainly determined by Tapis crude oil and Singapore petrol prices https://ro.uow.edu.au/cgi/viewcontent.cgi?article=1073&context=aabfj"
   ]
  },
  {
   "cell_type": "markdown",
   "metadata": {},
   "source": [
    "## Fuel prices"
   ]
  },
  {
   "cell_type": "code",
   "execution_count": 248,
   "metadata": {},
   "outputs": [],
   "source": [
    "jun19 = pd.read_csv('data/FuelWatchRetail-06-2019.csv')\n",
    "jul19 = pd.read_csv('data/FuelWatchRetail-07-2019.csv')\n",
    "aug19 = pd.read_csv('data/FuelWatchRetail-08-2019.csv')\n",
    "sep19 = pd.read_csv('data/FuelWatchRetail-09-2019.csv')\n",
    "oct19 = pd.read_csv('data/FuelWatchRetail-10-2019.csv')\n",
    "nov19 = pd.read_csv('data/FuelWatchRetail-11-2019.csv')\n",
    "dec19 = pd.read_csv('data/FuelWatchRetail-12-2019.csv')\n",
    "\n",
    "jan20 = pd.read_csv('data/FuelWatchRetail-01-2020.csv')\n",
    "feb20 = pd.read_csv('data/FuelWatchRetail-02-2020.csv')\n",
    "mar20 = pd.read_csv('data/FuelWatchRetail-03-2020.csv')\n",
    "apr20 = pd.read_csv('data/FuelWatchRetail-04-2020.csv')\n",
    "may20 = pd.read_csv('data/FuelWatchRetail-05-2020.csv')"
   ]
  },
  {
   "cell_type": "code",
   "execution_count": 249,
   "metadata": {},
   "outputs": [],
   "source": [
    "fuel_prices_df = pd.concat([jun19, jul19, aug19, sep19, oct19, nov19, dec19, jan20, feb20, mar20, apr20, may20])"
   ]
  },
  {
   "cell_type": "code",
   "execution_count": 250,
   "metadata": {},
   "outputs": [
    {
     "data": {
      "text/html": [
       "<div>\n",
       "<style scoped>\n",
       "    .dataframe tbody tr th:only-of-type {\n",
       "        vertical-align: middle;\n",
       "    }\n",
       "\n",
       "    .dataframe tbody tr th {\n",
       "        vertical-align: top;\n",
       "    }\n",
       "\n",
       "    .dataframe thead th {\n",
       "        text-align: right;\n",
       "    }\n",
       "</style>\n",
       "<table border=\"1\" class=\"dataframe\">\n",
       "  <thead>\n",
       "    <tr style=\"text-align: right;\">\n",
       "      <th></th>\n",
       "      <th>PUBLISH_DATE</th>\n",
       "      <th>TRADING_NAME</th>\n",
       "      <th>BRAND_DESCRIPTION</th>\n",
       "      <th>PRODUCT_DESCRIPTION</th>\n",
       "      <th>PRODUCT_PRICE</th>\n",
       "      <th>ADDRESS</th>\n",
       "      <th>LOCATION</th>\n",
       "      <th>POSTCODE</th>\n",
       "      <th>AREA_DESCRIPTION</th>\n",
       "      <th>REGION_DESCRIPTION</th>\n",
       "      <th>Unnamed: 10</th>\n",
       "    </tr>\n",
       "  </thead>\n",
       "  <tbody>\n",
       "    <tr>\n",
       "      <th>61675</th>\n",
       "      <td>24/05/2020</td>\n",
       "      <td>Windmill Roadhouse</td>\n",
       "      <td>Liberty</td>\n",
       "      <td>Diesel</td>\n",
       "      <td>105.9</td>\n",
       "      <td>1 Darch St</td>\n",
       "      <td>REGANS FORD</td>\n",
       "      <td>6507</td>\n",
       "      <td>Regans Ford</td>\n",
       "      <td>Wheatbelt</td>\n",
       "      <td>NaN</td>\n",
       "    </tr>\n",
       "    <tr>\n",
       "      <th>61676</th>\n",
       "      <td>24/05/2020</td>\n",
       "      <td>Yarrumba Service Station</td>\n",
       "      <td>Liberty</td>\n",
       "      <td>ULP</td>\n",
       "      <td>129.5</td>\n",
       "      <td>21 Jose St</td>\n",
       "      <td>MULLEWA</td>\n",
       "      <td>6630</td>\n",
       "      <td>Geraldton</td>\n",
       "      <td>Mid-West</td>\n",
       "      <td>NaN</td>\n",
       "    </tr>\n",
       "    <tr>\n",
       "      <th>61677</th>\n",
       "      <td>24/05/2020</td>\n",
       "      <td>Yarrumba Service Station</td>\n",
       "      <td>Liberty</td>\n",
       "      <td>Diesel</td>\n",
       "      <td>129.4</td>\n",
       "      <td>21 Jose St</td>\n",
       "      <td>MULLEWA</td>\n",
       "      <td>6630</td>\n",
       "      <td>Geraldton</td>\n",
       "      <td>Mid-West</td>\n",
       "      <td>NaN</td>\n",
       "    </tr>\n",
       "    <tr>\n",
       "      <th>61678</th>\n",
       "      <td>24/05/2020</td>\n",
       "      <td>Young Siding General Store</td>\n",
       "      <td>BP</td>\n",
       "      <td>ULP</td>\n",
       "      <td>118.5</td>\n",
       "      <td>19 Station St</td>\n",
       "      <td>YOUNGS SIDING</td>\n",
       "      <td>6330</td>\n",
       "      <td>Albany</td>\n",
       "      <td>Great Southern</td>\n",
       "      <td>NaN</td>\n",
       "    </tr>\n",
       "    <tr>\n",
       "      <th>61679</th>\n",
       "      <td>24/05/2020</td>\n",
       "      <td>Young Siding General Store</td>\n",
       "      <td>BP</td>\n",
       "      <td>Diesel</td>\n",
       "      <td>120.9</td>\n",
       "      <td>19 Station St</td>\n",
       "      <td>YOUNGS SIDING</td>\n",
       "      <td>6330</td>\n",
       "      <td>Albany</td>\n",
       "      <td>Great Southern</td>\n",
       "      <td>NaN</td>\n",
       "    </tr>\n",
       "  </tbody>\n",
       "</table>\n",
       "</div>"
      ],
      "text/plain": [
       "      PUBLISH_DATE                TRADING_NAME BRAND_DESCRIPTION  \\\n",
       "61675   24/05/2020          Windmill Roadhouse           Liberty   \n",
       "61676   24/05/2020    Yarrumba Service Station           Liberty   \n",
       "61677   24/05/2020    Yarrumba Service Station           Liberty   \n",
       "61678   24/05/2020  Young Siding General Store                BP   \n",
       "61679   24/05/2020  Young Siding General Store                BP   \n",
       "\n",
       "      PRODUCT_DESCRIPTION  PRODUCT_PRICE        ADDRESS       LOCATION  \\\n",
       "61675              Diesel          105.9     1 Darch St    REGANS FORD   \n",
       "61676                 ULP          129.5     21 Jose St        MULLEWA   \n",
       "61677              Diesel          129.4     21 Jose St        MULLEWA   \n",
       "61678                 ULP          118.5  19 Station St  YOUNGS SIDING   \n",
       "61679              Diesel          120.9  19 Station St  YOUNGS SIDING   \n",
       "\n",
       "       POSTCODE AREA_DESCRIPTION REGION_DESCRIPTION  Unnamed: 10  \n",
       "61675      6507      Regans Ford          Wheatbelt          NaN  \n",
       "61676      6630        Geraldton           Mid-West          NaN  \n",
       "61677      6630        Geraldton           Mid-West          NaN  \n",
       "61678      6330           Albany     Great Southern          NaN  \n",
       "61679      6330           Albany     Great Southern          NaN  "
      ]
     },
     "execution_count": 250,
     "metadata": {},
     "output_type": "execute_result"
    }
   ],
   "source": [
    "fuel_prices_df.tail()"
   ]
  },
  {
   "cell_type": "code",
   "execution_count": 251,
   "metadata": {},
   "outputs": [
    {
     "data": {
      "text/plain": [
       "['Murray', 'South of River', 'North of River', 'Mandurah', 'East/Hills']"
      ]
     },
     "execution_count": 251,
     "metadata": {},
     "output_type": "execute_result"
    }
   ],
   "source": [
    "fuel_prices_df['AREA_DESCRIPTION'].unique().tolist()[:5]"
   ]
  },
  {
   "cell_type": "code",
   "execution_count": 252,
   "metadata": {},
   "outputs": [],
   "source": [
    "# Get only south of river\n",
    "mask = (fuel_prices_df.loc[:, 'AREA_DESCRIPTION'] == 'South of River') & (fuel_prices_df.loc[:, 'PRODUCT_DESCRIPTION'] == 'ULP')\n",
    "fuel_prices_df_sor = fuel_prices_df[mask]"
   ]
  },
  {
   "cell_type": "code",
   "execution_count": 253,
   "metadata": {},
   "outputs": [
    {
     "name": "stderr",
     "output_type": "stream",
     "text": [
      "/home/john/.local/share/virtualenvs/edX-SvedPgMN/lib/python3.7/site-packages/pandas/core/indexing.py:966: SettingWithCopyWarning: \n",
      "A value is trying to be set on a copy of a slice from a DataFrame.\n",
      "Try using .loc[row_indexer,col_indexer] = value instead\n",
      "\n",
      "See the caveats in the documentation: https://pandas.pydata.org/pandas-docs/stable/user_guide/indexing.html#returning-a-view-versus-a-copy\n",
      "  self.obj[item] = s\n"
     ]
    }
   ],
   "source": [
    "# Change the dates to datetime format\n",
    "fuel_prices_df_sor.loc[:, 'PUBLISH_DATE'] = pd.to_datetime(fuel_prices_df_sor.loc[:, 'PUBLISH_DATE'], format='%d/%m/%Y')"
   ]
  },
  {
   "cell_type": "code",
   "execution_count": 254,
   "metadata": {},
   "outputs": [
    {
     "data": {
      "text/html": [
       "<div>\n",
       "<style scoped>\n",
       "    .dataframe tbody tr th:only-of-type {\n",
       "        vertical-align: middle;\n",
       "    }\n",
       "\n",
       "    .dataframe tbody tr th {\n",
       "        vertical-align: top;\n",
       "    }\n",
       "\n",
       "    .dataframe thead th {\n",
       "        text-align: right;\n",
       "    }\n",
       "</style>\n",
       "<table border=\"1\" class=\"dataframe\">\n",
       "  <thead>\n",
       "    <tr style=\"text-align: right;\">\n",
       "      <th></th>\n",
       "      <th>PUBLISH_DATE</th>\n",
       "      <th>TRADING_NAME</th>\n",
       "      <th>BRAND_DESCRIPTION</th>\n",
       "      <th>PRODUCT_DESCRIPTION</th>\n",
       "      <th>PRODUCT_PRICE</th>\n",
       "      <th>ADDRESS</th>\n",
       "      <th>LOCATION</th>\n",
       "      <th>POSTCODE</th>\n",
       "      <th>AREA_DESCRIPTION</th>\n",
       "      <th>REGION_DESCRIPTION</th>\n",
       "      <th>Unnamed: 10</th>\n",
       "    </tr>\n",
       "  </thead>\n",
       "  <tbody>\n",
       "    <tr>\n",
       "      <th>3</th>\n",
       "      <td>2019-06-01</td>\n",
       "      <td>7-Eleven Ascot</td>\n",
       "      <td>7-Eleven</td>\n",
       "      <td>ULP</td>\n",
       "      <td>141.9</td>\n",
       "      <td>194 Great Eastern Hwy</td>\n",
       "      <td>ASCOT</td>\n",
       "      <td>6104</td>\n",
       "      <td>South of River</td>\n",
       "      <td>Metro</td>\n",
       "      <td>NaN</td>\n",
       "    </tr>\n",
       "    <tr>\n",
       "      <th>15</th>\n",
       "      <td>2019-06-01</td>\n",
       "      <td>7-Eleven Bibra Lake</td>\n",
       "      <td>7-Eleven</td>\n",
       "      <td>ULP</td>\n",
       "      <td>139.9</td>\n",
       "      <td>35 Port Kembla Dr</td>\n",
       "      <td>BIBRA LAKE</td>\n",
       "      <td>6163</td>\n",
       "      <td>South of River</td>\n",
       "      <td>Metro</td>\n",
       "      <td>NaN</td>\n",
       "    </tr>\n",
       "    <tr>\n",
       "      <th>23</th>\n",
       "      <td>2019-06-01</td>\n",
       "      <td>7-Eleven Byford South</td>\n",
       "      <td>7-Eleven</td>\n",
       "      <td>ULP</td>\n",
       "      <td>141.9</td>\n",
       "      <td>25 Abernethy Rd</td>\n",
       "      <td>BYFORD</td>\n",
       "      <td>6122</td>\n",
       "      <td>South of River</td>\n",
       "      <td>Metro</td>\n",
       "      <td>NaN</td>\n",
       "    </tr>\n",
       "    <tr>\n",
       "      <th>27</th>\n",
       "      <td>2019-06-01</td>\n",
       "      <td>7-Eleven Canning Vale</td>\n",
       "      <td>7-Eleven</td>\n",
       "      <td>ULP</td>\n",
       "      <td>139.9</td>\n",
       "      <td>215 Campbell Rd</td>\n",
       "      <td>CANNING VALE</td>\n",
       "      <td>6155</td>\n",
       "      <td>South of River</td>\n",
       "      <td>Metro</td>\n",
       "      <td>NaN</td>\n",
       "    </tr>\n",
       "    <tr>\n",
       "      <th>35</th>\n",
       "      <td>2019-06-01</td>\n",
       "      <td>7-Eleven Cockburn Central</td>\n",
       "      <td>7-Eleven</td>\n",
       "      <td>ULP</td>\n",
       "      <td>138.7</td>\n",
       "      <td>814 North Lake Rd</td>\n",
       "      <td>COCKBURN CENTRAL</td>\n",
       "      <td>6164</td>\n",
       "      <td>South of River</td>\n",
       "      <td>Metro</td>\n",
       "      <td>NaN</td>\n",
       "    </tr>\n",
       "  </tbody>\n",
       "</table>\n",
       "</div>"
      ],
      "text/plain": [
       "   PUBLISH_DATE               TRADING_NAME BRAND_DESCRIPTION  \\\n",
       "3    2019-06-01             7-Eleven Ascot          7-Eleven   \n",
       "15   2019-06-01        7-Eleven Bibra Lake          7-Eleven   \n",
       "23   2019-06-01      7-Eleven Byford South          7-Eleven   \n",
       "27   2019-06-01      7-Eleven Canning Vale          7-Eleven   \n",
       "35   2019-06-01  7-Eleven Cockburn Central          7-Eleven   \n",
       "\n",
       "   PRODUCT_DESCRIPTION  PRODUCT_PRICE                ADDRESS  \\\n",
       "3                  ULP          141.9  194 Great Eastern Hwy   \n",
       "15                 ULP          139.9      35 Port Kembla Dr   \n",
       "23                 ULP          141.9        25 Abernethy Rd   \n",
       "27                 ULP          139.9        215 Campbell Rd   \n",
       "35                 ULP          138.7      814 North Lake Rd   \n",
       "\n",
       "            LOCATION  POSTCODE AREA_DESCRIPTION REGION_DESCRIPTION  \\\n",
       "3              ASCOT      6104   South of River              Metro   \n",
       "15        BIBRA LAKE      6163   South of River              Metro   \n",
       "23            BYFORD      6122   South of River              Metro   \n",
       "27      CANNING VALE      6155   South of River              Metro   \n",
       "35  COCKBURN CENTRAL      6164   South of River              Metro   \n",
       "\n",
       "    Unnamed: 10  \n",
       "3           NaN  \n",
       "15          NaN  \n",
       "23          NaN  \n",
       "27          NaN  \n",
       "35          NaN  "
      ]
     },
     "execution_count": 254,
     "metadata": {},
     "output_type": "execute_result"
    }
   ],
   "source": [
    "fuel_prices_df_sor.head()"
   ]
  },
  {
   "cell_type": "code",
   "execution_count": 255,
   "metadata": {},
   "outputs": [
    {
     "data": {
      "text/html": [
       "<div>\n",
       "<style scoped>\n",
       "    .dataframe tbody tr th:only-of-type {\n",
       "        vertical-align: middle;\n",
       "    }\n",
       "\n",
       "    .dataframe tbody tr th {\n",
       "        vertical-align: top;\n",
       "    }\n",
       "\n",
       "    .dataframe thead th {\n",
       "        text-align: right;\n",
       "    }\n",
       "</style>\n",
       "<table border=\"1\" class=\"dataframe\">\n",
       "  <thead>\n",
       "    <tr style=\"text-align: right;\">\n",
       "      <th></th>\n",
       "      <th>PUBLISH_DATE</th>\n",
       "      <th>PRODUCT_PRICE</th>\n",
       "    </tr>\n",
       "  </thead>\n",
       "  <tbody>\n",
       "    <tr>\n",
       "      <th>0</th>\n",
       "      <td>2019-06-01</td>\n",
       "      <td>141.501156</td>\n",
       "    </tr>\n",
       "    <tr>\n",
       "      <th>1</th>\n",
       "      <td>2019-06-02</td>\n",
       "      <td>138.509249</td>\n",
       "    </tr>\n",
       "    <tr>\n",
       "      <th>2</th>\n",
       "      <td>2019-06-03</td>\n",
       "      <td>134.501156</td>\n",
       "    </tr>\n",
       "    <tr>\n",
       "      <th>3</th>\n",
       "      <td>2019-06-04</td>\n",
       "      <td>151.212717</td>\n",
       "    </tr>\n",
       "    <tr>\n",
       "      <th>4</th>\n",
       "      <td>2019-06-05</td>\n",
       "      <td>149.213295</td>\n",
       "    </tr>\n",
       "    <tr>\n",
       "      <th>...</th>\n",
       "      <td>...</td>\n",
       "      <td>...</td>\n",
       "    </tr>\n",
       "    <tr>\n",
       "      <th>353</th>\n",
       "      <td>2020-05-20</td>\n",
       "      <td>117.368715</td>\n",
       "    </tr>\n",
       "    <tr>\n",
       "      <th>354</th>\n",
       "      <td>2020-05-21</td>\n",
       "      <td>116.446927</td>\n",
       "    </tr>\n",
       "    <tr>\n",
       "      <th>355</th>\n",
       "      <td>2020-05-22</td>\n",
       "      <td>110.841899</td>\n",
       "    </tr>\n",
       "    <tr>\n",
       "      <th>356</th>\n",
       "      <td>2020-05-23</td>\n",
       "      <td>105.836313</td>\n",
       "    </tr>\n",
       "    <tr>\n",
       "      <th>357</th>\n",
       "      <td>2020-05-24</td>\n",
       "      <td>102.131285</td>\n",
       "    </tr>\n",
       "  </tbody>\n",
       "</table>\n",
       "<p>358 rows × 2 columns</p>\n",
       "</div>"
      ],
      "text/plain": [
       "    PUBLISH_DATE  PRODUCT_PRICE\n",
       "0     2019-06-01     141.501156\n",
       "1     2019-06-02     138.509249\n",
       "2     2019-06-03     134.501156\n",
       "3     2019-06-04     151.212717\n",
       "4     2019-06-05     149.213295\n",
       "..           ...            ...\n",
       "353   2020-05-20     117.368715\n",
       "354   2020-05-21     116.446927\n",
       "355   2020-05-22     110.841899\n",
       "356   2020-05-23     105.836313\n",
       "357   2020-05-24     102.131285\n",
       "\n",
       "[358 rows x 2 columns]"
      ]
     },
     "execution_count": 255,
     "metadata": {},
     "output_type": "execute_result"
    }
   ],
   "source": [
    "fuel_prices_df_sor_daily_mean = fuel_prices_df_sor.groupby('PUBLISH_DATE')['PRODUCT_PRICE'].mean().reset_index()\n",
    "fuel_prices_df_sor_daily_mean"
   ]
  },
  {
   "cell_type": "code",
   "execution_count": 256,
   "metadata": {},
   "outputs": [
    {
     "data": {
      "text/html": [
       "<div>\n",
       "<style scoped>\n",
       "    .dataframe tbody tr th:only-of-type {\n",
       "        vertical-align: middle;\n",
       "    }\n",
       "\n",
       "    .dataframe tbody tr th {\n",
       "        vertical-align: top;\n",
       "    }\n",
       "\n",
       "    .dataframe thead th {\n",
       "        text-align: right;\n",
       "    }\n",
       "</style>\n",
       "<table border=\"1\" class=\"dataframe\">\n",
       "  <thead>\n",
       "    <tr style=\"text-align: right;\">\n",
       "      <th></th>\n",
       "      <th>PUBLISH_DATE</th>\n",
       "      <th>PRODUCT_PRICE</th>\n",
       "    </tr>\n",
       "  </thead>\n",
       "  <tbody>\n",
       "    <tr>\n",
       "      <th>0</th>\n",
       "      <td>2019-06-01</td>\n",
       "      <td>131.3</td>\n",
       "    </tr>\n",
       "    <tr>\n",
       "      <th>1</th>\n",
       "      <td>2019-06-02</td>\n",
       "      <td>130.7</td>\n",
       "    </tr>\n",
       "    <tr>\n",
       "      <th>2</th>\n",
       "      <td>2019-06-03</td>\n",
       "      <td>127.3</td>\n",
       "    </tr>\n",
       "    <tr>\n",
       "      <th>3</th>\n",
       "      <td>2019-06-04</td>\n",
       "      <td>127.3</td>\n",
       "    </tr>\n",
       "    <tr>\n",
       "      <th>4</th>\n",
       "      <td>2019-06-05</td>\n",
       "      <td>127.3</td>\n",
       "    </tr>\n",
       "    <tr>\n",
       "      <th>...</th>\n",
       "      <td>...</td>\n",
       "      <td>...</td>\n",
       "    </tr>\n",
       "    <tr>\n",
       "      <th>353</th>\n",
       "      <td>2020-05-20</td>\n",
       "      <td>86.7</td>\n",
       "    </tr>\n",
       "    <tr>\n",
       "      <th>354</th>\n",
       "      <td>2020-05-21</td>\n",
       "      <td>88.7</td>\n",
       "    </tr>\n",
       "    <tr>\n",
       "      <th>355</th>\n",
       "      <td>2020-05-22</td>\n",
       "      <td>88.7</td>\n",
       "    </tr>\n",
       "    <tr>\n",
       "      <th>356</th>\n",
       "      <td>2020-05-23</td>\n",
       "      <td>88.7</td>\n",
       "    </tr>\n",
       "    <tr>\n",
       "      <th>357</th>\n",
       "      <td>2020-05-24</td>\n",
       "      <td>88.7</td>\n",
       "    </tr>\n",
       "  </tbody>\n",
       "</table>\n",
       "<p>358 rows × 2 columns</p>\n",
       "</div>"
      ],
      "text/plain": [
       "    PUBLISH_DATE  PRODUCT_PRICE\n",
       "0     2019-06-01          131.3\n",
       "1     2019-06-02          130.7\n",
       "2     2019-06-03          127.3\n",
       "3     2019-06-04          127.3\n",
       "4     2019-06-05          127.3\n",
       "..           ...            ...\n",
       "353   2020-05-20           86.7\n",
       "354   2020-05-21           88.7\n",
       "355   2020-05-22           88.7\n",
       "356   2020-05-23           88.7\n",
       "357   2020-05-24           88.7\n",
       "\n",
       "[358 rows x 2 columns]"
      ]
     },
     "execution_count": 256,
     "metadata": {},
     "output_type": "execute_result"
    }
   ],
   "source": [
    "fuel_prices_df_sor_daily_min = fuel_prices_df_sor.groupby('PUBLISH_DATE')['PRODUCT_PRICE'].min().reset_index()\n",
    "fuel_prices_df_sor_daily_min"
   ]
  },
  {
   "cell_type": "code",
   "execution_count": 257,
   "metadata": {},
   "outputs": [
    {
     "data": {
      "text/plain": [
       "(array([737241., 737303., 737364., 737425., 737485., 737546.]),\n",
       " <a list of 6 Text major ticklabel objects>)"
      ]
     },
     "execution_count": 257,
     "metadata": {},
     "output_type": "execute_result"
    },
    {
     "data": {
      "image/png": "[encoded data removed]",
      "text/plain": [
       "<Figure size 432x288 with 1 Axes>"
      ]
     },
     "metadata": {
      "needs_background": "light"
     },
     "output_type": "display_data"
    }
   ],
   "source": [
    "sns.lineplot(x='PUBLISH_DATE', y='PRODUCT_PRICE', data=fuel_prices_df_sor_daily_mean)\n",
    "sns.lineplot(x='PUBLISH_DATE', y='PRODUCT_PRICE', data=fuel_prices_df_sor_daily_min)\n",
    "plt.xticks(rotation=45)"
   ]
  },
  {
   "cell_type": "code",
   "execution_count": 258,
   "metadata": {},
   "outputs": [],
   "source": [
    "fuel_prices_df_sor_daily_min.rename(columns={'PUBLISH_DATE':'Date' , 'PRODUCT_PRICE':'Fuel_price'}, inplace=True)"
   ]
  },
  {
   "cell_type": "markdown",
   "metadata": {},
   "source": [
    "## Oil prices"
   ]
  },
  {
   "cell_type": "code",
   "execution_count": 259,
   "metadata": {},
   "outputs": [],
   "source": [
    "oil = pd.read_csv('data/Cushing_OK_WTI_Spot_Price_FOB.csv')"
   ]
  },
  {
   "cell_type": "code",
   "execution_count": 260,
   "metadata": {},
   "outputs": [
    {
     "data": {
      "text/html": [
       "<div>\n",
       "<style scoped>\n",
       "    .dataframe tbody tr th:only-of-type {\n",
       "        vertical-align: middle;\n",
       "    }\n",
       "\n",
       "    .dataframe tbody tr th {\n",
       "        vertical-align: top;\n",
       "    }\n",
       "\n",
       "    .dataframe thead th {\n",
       "        text-align: right;\n",
       "    }\n",
       "</style>\n",
       "<table border=\"1\" class=\"dataframe\">\n",
       "  <thead>\n",
       "    <tr style=\"text-align: right;\">\n",
       "      <th></th>\n",
       "      <th>Date</th>\n",
       "      <th>Price</th>\n",
       "    </tr>\n",
       "  </thead>\n",
       "  <tbody>\n",
       "    <tr>\n",
       "      <th>0</th>\n",
       "      <td>05/22/2020</td>\n",
       "      <td>33.25</td>\n",
       "    </tr>\n",
       "    <tr>\n",
       "      <th>1</th>\n",
       "      <td>05/21/2020</td>\n",
       "      <td>33.91</td>\n",
       "    </tr>\n",
       "    <tr>\n",
       "      <th>2</th>\n",
       "      <td>05/20/2020</td>\n",
       "      <td>33.52</td>\n",
       "    </tr>\n",
       "    <tr>\n",
       "      <th>3</th>\n",
       "      <td>05/19/2020</td>\n",
       "      <td>32.36</td>\n",
       "    </tr>\n",
       "    <tr>\n",
       "      <th>4</th>\n",
       "      <td>05/18/2020</td>\n",
       "      <td>31.83</td>\n",
       "    </tr>\n",
       "  </tbody>\n",
       "</table>\n",
       "</div>"
      ],
      "text/plain": [
       "         Date  Price\n",
       "0  05/22/2020  33.25\n",
       "1  05/21/2020  33.91\n",
       "2  05/20/2020  33.52\n",
       "3  05/19/2020  32.36\n",
       "4  05/18/2020  31.83"
      ]
     },
     "execution_count": 260,
     "metadata": {},
     "output_type": "execute_result"
    }
   ],
   "source": [
    "oil.head()"
   ]
  },
  {
   "cell_type": "code",
   "execution_count": 261,
   "metadata": {},
   "outputs": [
    {
     "name": "stdout",
     "output_type": "stream",
     "text": [
      "<class 'pandas.core.frame.DataFrame'>\n",
      "RangeIndex: 798 entries, 0 to 797\n",
      "Data columns (total 2 columns):\n",
      " #   Column  Non-Null Count  Dtype  \n",
      "---  ------  --------------  -----  \n",
      " 0   Date    798 non-null    object \n",
      " 1   Price   798 non-null    float64\n",
      "dtypes: float64(1), object(1)\n",
      "memory usage: 12.6+ KB\n"
     ]
    }
   ],
   "source": [
    "oil.info()"
   ]
  },
  {
   "cell_type": "code",
   "execution_count": 262,
   "metadata": {},
   "outputs": [],
   "source": [
    "oil.rename(columns={'Price':'Oil_price'}, inplace=True)"
   ]
  },
  {
   "cell_type": "code",
   "execution_count": 263,
   "metadata": {},
   "outputs": [],
   "source": [
    "# Change the dates to datetime format\n",
    "oil.loc[:, 'Date'] = pd.to_datetime(oil.loc[:, 'Date'], format='%m/%d/%Y')"
   ]
  },
  {
   "cell_type": "code",
   "execution_count": 264,
   "metadata": {},
   "outputs": [
    {
     "data": {
      "text/html": [
       "<div>\n",
       "<style scoped>\n",
       "    .dataframe tbody tr th:only-of-type {\n",
       "        vertical-align: middle;\n",
       "    }\n",
       "\n",
       "    .dataframe tbody tr th {\n",
       "        vertical-align: top;\n",
       "    }\n",
       "\n",
       "    .dataframe thead th {\n",
       "        text-align: right;\n",
       "    }\n",
       "</style>\n",
       "<table border=\"1\" class=\"dataframe\">\n",
       "  <thead>\n",
       "    <tr style=\"text-align: right;\">\n",
       "      <th></th>\n",
       "      <th>Date</th>\n",
       "      <th>Oil_price</th>\n",
       "    </tr>\n",
       "  </thead>\n",
       "  <tbody>\n",
       "    <tr>\n",
       "      <th>0</th>\n",
       "      <td>2020-05-22</td>\n",
       "      <td>33.25</td>\n",
       "    </tr>\n",
       "    <tr>\n",
       "      <th>1</th>\n",
       "      <td>2020-05-21</td>\n",
       "      <td>33.91</td>\n",
       "    </tr>\n",
       "    <tr>\n",
       "      <th>2</th>\n",
       "      <td>2020-05-20</td>\n",
       "      <td>33.52</td>\n",
       "    </tr>\n",
       "    <tr>\n",
       "      <th>3</th>\n",
       "      <td>2020-05-19</td>\n",
       "      <td>32.36</td>\n",
       "    </tr>\n",
       "    <tr>\n",
       "      <th>4</th>\n",
       "      <td>2020-05-18</td>\n",
       "      <td>31.83</td>\n",
       "    </tr>\n",
       "    <tr>\n",
       "      <th>...</th>\n",
       "      <td>...</td>\n",
       "      <td>...</td>\n",
       "    </tr>\n",
       "    <tr>\n",
       "      <th>261</th>\n",
       "      <td>2019-05-08</td>\n",
       "      <td>62.13</td>\n",
       "    </tr>\n",
       "    <tr>\n",
       "      <th>262</th>\n",
       "      <td>2019-05-07</td>\n",
       "      <td>61.41</td>\n",
       "    </tr>\n",
       "    <tr>\n",
       "      <th>263</th>\n",
       "      <td>2019-05-06</td>\n",
       "      <td>62.30</td>\n",
       "    </tr>\n",
       "    <tr>\n",
       "      <th>264</th>\n",
       "      <td>2019-05-03</td>\n",
       "      <td>61.98</td>\n",
       "    </tr>\n",
       "    <tr>\n",
       "      <th>265</th>\n",
       "      <td>2019-05-02</td>\n",
       "      <td>61.75</td>\n",
       "    </tr>\n",
       "  </tbody>\n",
       "</table>\n",
       "<p>266 rows × 2 columns</p>\n",
       "</div>"
      ],
      "text/plain": [
       "          Date  Oil_price\n",
       "0   2020-05-22      33.25\n",
       "1   2020-05-21      33.91\n",
       "2   2020-05-20      33.52\n",
       "3   2020-05-19      32.36\n",
       "4   2020-05-18      31.83\n",
       "..         ...        ...\n",
       "261 2019-05-08      62.13\n",
       "262 2019-05-07      61.41\n",
       "263 2019-05-06      62.30\n",
       "264 2019-05-03      61.98\n",
       "265 2019-05-02      61.75\n",
       "\n",
       "[266 rows x 2 columns]"
      ]
     },
     "execution_count": 264,
     "metadata": {},
     "output_type": "execute_result"
    }
   ],
   "source": [
    "mask = oil['Date'] > np.datetime64('2019-05-01')\n",
    "oil_df = oil[mask]\n",
    "oil_df"
   ]
  },
  {
   "cell_type": "code",
   "execution_count": 265,
   "metadata": {},
   "outputs": [
    {
     "data": {
      "text/plain": [
       "(array([737180., 737241., 737303., 737364., 737425., 737485., 737546.]),\n",
       " <a list of 7 Text major ticklabel objects>)"
      ]
     },
     "execution_count": 265,
     "metadata": {},
     "output_type": "execute_result"
    },
    {
     "data": {
      "image/png": "[encoded data removed]",
      "text/plain": [
       "<Figure size 432x288 with 1 Axes>"
      ]
     },
     "metadata": {
      "needs_background": "light"
     },
     "output_type": "display_data"
    }
   ],
   "source": [
    "sns.lineplot(x='Date', y='Oil_price', data=oil_df)\n",
    "plt.xticks(rotation=45)"
   ]
  },
  {
   "cell_type": "code",
   "execution_count": 266,
   "metadata": {},
   "outputs": [
    {
     "data": {
      "text/plain": [
       "(array([737180., 737241., 737303., 737364., 737425., 737485., 737546.]),\n",
       " <a list of 7 Text major ticklabel objects>)"
      ]
     },
     "execution_count": 266,
     "metadata": {},
     "output_type": "execute_result"
    },
    {
     "data": {
      "image/png": "[encoded data removed]",
      "text/plain": [
       "<Figure size 432x288 with 1 Axes>"
      ]
     },
     "metadata": {
      "needs_background": "light"
     },
     "output_type": "display_data"
    }
   ],
   "source": [
    "sns.lineplot(x='PUBLISH_DATE', y='PRODUCT_PRICE', data=fuel_prices_df_sor_daily_mean)\n",
    "sns.lineplot(x='Date', y='Oil_price', data=oil_df)\n",
    "plt.xticks(rotation=45)"
   ]
  },
  {
   "cell_type": "code",
   "execution_count": 267,
   "metadata": {},
   "outputs": [
    {
     "data": {
      "image/png": "[encoded data removed]",
      "text/plain": [
       "<Figure size 432x288 with 2 Axes>"
      ]
     },
     "metadata": {
      "needs_background": "light"
     },
     "output_type": "display_data"
    }
   ],
   "source": [
    "ax = fuel_prices_df_sor_daily_mean.plot(x=\"PUBLISH_DATE\", y=\"PRODUCT_PRICE\", legend=False)\n",
    "ax2 = ax.twinx()\n",
    "oil_df.plot(x=\"Date\", y=\"Oil_price\", ax=ax2, legend=False, color=\"r\")\n",
    "ax.figure.legend()\n",
    "plt.show()"
   ]
  },
  {
   "cell_type": "markdown",
   "metadata": {},
   "source": [
    "## Exchange rate"
   ]
  },
  {
   "cell_type": "markdown",
   "metadata": {},
   "source": [
    "**Load AUD vs USD**"
   ]
  },
  {
   "cell_type": "code",
   "execution_count": 268,
   "metadata": {},
   "outputs": [
    {
     "data": {
      "text/html": [
       "<div>\n",
       "<style scoped>\n",
       "    .dataframe tbody tr th:only-of-type {\n",
       "        vertical-align: middle;\n",
       "    }\n",
       "\n",
       "    .dataframe tbody tr th {\n",
       "        vertical-align: top;\n",
       "    }\n",
       "\n",
       "    .dataframe thead th {\n",
       "        text-align: right;\n",
       "    }\n",
       "</style>\n",
       "<table border=\"1\" class=\"dataframe\">\n",
       "  <thead>\n",
       "    <tr style=\"text-align: right;\">\n",
       "      <th></th>\n",
       "      <th>Date</th>\n",
       "      <th>Price</th>\n",
       "      <th>Open</th>\n",
       "      <th>High</th>\n",
       "      <th>Low</th>\n",
       "      <th>Change %</th>\n",
       "    </tr>\n",
       "  </thead>\n",
       "  <tbody>\n",
       "    <tr>\n",
       "      <th>0</th>\n",
       "      <td>May 22, 2020</td>\n",
       "      <td>0.6536</td>\n",
       "      <td>0.6565</td>\n",
       "      <td>0.6578</td>\n",
       "      <td>0.6506</td>\n",
       "      <td>-0.44%</td>\n",
       "    </tr>\n",
       "    <tr>\n",
       "      <th>1</th>\n",
       "      <td>May 21, 2020</td>\n",
       "      <td>0.6565</td>\n",
       "      <td>0.6597</td>\n",
       "      <td>0.6600</td>\n",
       "      <td>0.6548</td>\n",
       "      <td>-0.50%</td>\n",
       "    </tr>\n",
       "    <tr>\n",
       "      <th>2</th>\n",
       "      <td>May 20, 2020</td>\n",
       "      <td>0.6598</td>\n",
       "      <td>0.6538</td>\n",
       "      <td>0.6618</td>\n",
       "      <td>0.6525</td>\n",
       "      <td>0.93%</td>\n",
       "    </tr>\n",
       "    <tr>\n",
       "      <th>3</th>\n",
       "      <td>May 19, 2020</td>\n",
       "      <td>0.6537</td>\n",
       "      <td>0.6523</td>\n",
       "      <td>0.6586</td>\n",
       "      <td>0.6510</td>\n",
       "      <td>0.20%</td>\n",
       "    </tr>\n",
       "    <tr>\n",
       "      <th>4</th>\n",
       "      <td>May 18, 2020</td>\n",
       "      <td>0.6524</td>\n",
       "      <td>0.6425</td>\n",
       "      <td>0.6528</td>\n",
       "      <td>0.6409</td>\n",
       "      <td>1.70%</td>\n",
       "    </tr>\n",
       "    <tr>\n",
       "      <th>5</th>\n",
       "      <td>May 15, 2020</td>\n",
       "      <td>0.6415</td>\n",
       "      <td>0.6462</td>\n",
       "      <td>0.6475</td>\n",
       "      <td>0.6401</td>\n",
       "      <td>-0.73%</td>\n",
       "    </tr>\n",
       "    <tr>\n",
       "      <th>6</th>\n",
       "      <td>May 14, 2020</td>\n",
       "      <td>0.6462</td>\n",
       "      <td>0.6452</td>\n",
       "      <td>0.6469</td>\n",
       "      <td>0.6403</td>\n",
       "      <td>0.11%</td>\n",
       "    </tr>\n",
       "    <tr>\n",
       "      <th>7</th>\n",
       "      <td>May 13, 2020</td>\n",
       "      <td>0.6455</td>\n",
       "      <td>0.6473</td>\n",
       "      <td>0.6525</td>\n",
       "      <td>0.6437</td>\n",
       "      <td>-0.23%</td>\n",
       "    </tr>\n",
       "    <tr>\n",
       "      <th>8</th>\n",
       "      <td>May 12, 2020</td>\n",
       "      <td>0.6470</td>\n",
       "      <td>0.6490</td>\n",
       "      <td>0.6537</td>\n",
       "      <td>0.6431</td>\n",
       "      <td>-0.30%</td>\n",
       "    </tr>\n",
       "    <tr>\n",
       "      <th>9</th>\n",
       "      <td>May 11, 2020</td>\n",
       "      <td>0.6489</td>\n",
       "      <td>0.6529</td>\n",
       "      <td>0.6563</td>\n",
       "      <td>0.6456</td>\n",
       "      <td>-0.62%</td>\n",
       "    </tr>\n",
       "  </tbody>\n",
       "</table>\n",
       "</div>"
      ],
      "text/plain": [
       "           Date   Price    Open    High     Low Change %\n",
       "0  May 22, 2020  0.6536  0.6565  0.6578  0.6506   -0.44%\n",
       "1  May 21, 2020  0.6565  0.6597  0.6600  0.6548   -0.50%\n",
       "2  May 20, 2020  0.6598  0.6538  0.6618  0.6525    0.93%\n",
       "3  May 19, 2020  0.6537  0.6523  0.6586  0.6510    0.20%\n",
       "4  May 18, 2020  0.6524  0.6425  0.6528  0.6409    1.70%\n",
       "5  May 15, 2020  0.6415  0.6462  0.6475  0.6401   -0.73%\n",
       "6  May 14, 2020  0.6462  0.6452  0.6469  0.6403    0.11%\n",
       "7  May 13, 2020  0.6455  0.6473  0.6525  0.6437   -0.23%\n",
       "8  May 12, 2020  0.6470  0.6490  0.6537  0.6431   -0.30%\n",
       "9  May 11, 2020  0.6489  0.6529  0.6563  0.6456   -0.62%"
      ]
     },
     "execution_count": 268,
     "metadata": {},
     "output_type": "execute_result"
    }
   ],
   "source": [
    "df_usd_aud = pd.read_csv('data/AUD_USD Historical Data.csv')\n",
    "df_usd_aud.head(10)"
   ]
  },
  {
   "cell_type": "code",
   "execution_count": 269,
   "metadata": {},
   "outputs": [
    {
     "data": {
      "text/html": [
       "<div>\n",
       "<style scoped>\n",
       "    .dataframe tbody tr th:only-of-type {\n",
       "        vertical-align: middle;\n",
       "    }\n",
       "\n",
       "    .dataframe tbody tr th {\n",
       "        vertical-align: top;\n",
       "    }\n",
       "\n",
       "    .dataframe thead th {\n",
       "        text-align: right;\n",
       "    }\n",
       "</style>\n",
       "<table border=\"1\" class=\"dataframe\">\n",
       "  <thead>\n",
       "    <tr style=\"text-align: right;\">\n",
       "      <th></th>\n",
       "      <th>Date</th>\n",
       "      <th>Price</th>\n",
       "      <th>Open</th>\n",
       "      <th>High</th>\n",
       "      <th>Low</th>\n",
       "      <th>Change %</th>\n",
       "    </tr>\n",
       "  </thead>\n",
       "  <tbody>\n",
       "    <tr>\n",
       "      <th>359</th>\n",
       "      <td>Jan 07, 2019</td>\n",
       "      <td>0.7148</td>\n",
       "      <td>0.7108</td>\n",
       "      <td>0.7151</td>\n",
       "      <td>0.7108</td>\n",
       "      <td>0.49%</td>\n",
       "    </tr>\n",
       "    <tr>\n",
       "      <th>360</th>\n",
       "      <td>Jan 04, 2019</td>\n",
       "      <td>0.7113</td>\n",
       "      <td>0.7006</td>\n",
       "      <td>0.7125</td>\n",
       "      <td>0.6992</td>\n",
       "      <td>1.53%</td>\n",
       "    </tr>\n",
       "    <tr>\n",
       "      <th>361</th>\n",
       "      <td>Jan 03, 2019</td>\n",
       "      <td>0.7006</td>\n",
       "      <td>0.6985</td>\n",
       "      <td>0.7020</td>\n",
       "      <td>0.6744</td>\n",
       "      <td>0.30%</td>\n",
       "    </tr>\n",
       "    <tr>\n",
       "      <th>362</th>\n",
       "      <td>Jan 02, 2019</td>\n",
       "      <td>0.6985</td>\n",
       "      <td>0.7053</td>\n",
       "      <td>0.7054</td>\n",
       "      <td>0.6980</td>\n",
       "      <td>-0.96%</td>\n",
       "    </tr>\n",
       "    <tr>\n",
       "      <th>363</th>\n",
       "      <td>Jan 01, 2019</td>\n",
       "      <td>0.7053</td>\n",
       "      <td>0.7048</td>\n",
       "      <td>0.7067</td>\n",
       "      <td>0.7045</td>\n",
       "      <td>0.01%</td>\n",
       "    </tr>\n",
       "  </tbody>\n",
       "</table>\n",
       "</div>"
      ],
      "text/plain": [
       "             Date   Price    Open    High     Low Change %\n",
       "359  Jan 07, 2019  0.7148  0.7108  0.7151  0.7108    0.49%\n",
       "360  Jan 04, 2019  0.7113  0.7006  0.7125  0.6992    1.53%\n",
       "361  Jan 03, 2019  0.7006  0.6985  0.7020  0.6744    0.30%\n",
       "362  Jan 02, 2019  0.6985  0.7053  0.7054  0.6980   -0.96%\n",
       "363  Jan 01, 2019  0.7053  0.7048  0.7067  0.7045    0.01%"
      ]
     },
     "execution_count": 269,
     "metadata": {},
     "output_type": "execute_result"
    }
   ],
   "source": [
    "df_usd_aud.tail()"
   ]
  },
  {
   "cell_type": "code",
   "execution_count": 270,
   "metadata": {},
   "outputs": [
    {
     "name": "stdout",
     "output_type": "stream",
     "text": [
      "<class 'pandas.core.frame.DataFrame'>\n",
      "RangeIndex: 364 entries, 0 to 363\n",
      "Data columns (total 6 columns):\n",
      " #   Column    Non-Null Count  Dtype  \n",
      "---  ------    --------------  -----  \n",
      " 0   Date      364 non-null    object \n",
      " 1   Price     364 non-null    float64\n",
      " 2   Open      364 non-null    float64\n",
      " 3   High      364 non-null    float64\n",
      " 4   Low       364 non-null    float64\n",
      " 5   Change %  364 non-null    object \n",
      "dtypes: float64(4), object(2)\n",
      "memory usage: 17.2+ KB\n"
     ]
    }
   ],
   "source": [
    "df_usd_aud.info()"
   ]
  },
  {
   "cell_type": "code",
   "execution_count": 271,
   "metadata": {},
   "outputs": [
    {
     "data": {
      "text/html": [
       "<div>\n",
       "<style scoped>\n",
       "    .dataframe tbody tr th:only-of-type {\n",
       "        vertical-align: middle;\n",
       "    }\n",
       "\n",
       "    .dataframe tbody tr th {\n",
       "        vertical-align: top;\n",
       "    }\n",
       "\n",
       "    .dataframe thead th {\n",
       "        text-align: right;\n",
       "    }\n",
       "</style>\n",
       "<table border=\"1\" class=\"dataframe\">\n",
       "  <thead>\n",
       "    <tr style=\"text-align: right;\">\n",
       "      <th></th>\n",
       "      <th>Date</th>\n",
       "      <th>Price</th>\n",
       "      <th>Open</th>\n",
       "      <th>High</th>\n",
       "      <th>Low</th>\n",
       "      <th>Change %</th>\n",
       "    </tr>\n",
       "  </thead>\n",
       "  <tbody>\n",
       "    <tr>\n",
       "      <th>0</th>\n",
       "      <td>2020-05-22</td>\n",
       "      <td>0.6536</td>\n",
       "      <td>0.6565</td>\n",
       "      <td>0.6578</td>\n",
       "      <td>0.6506</td>\n",
       "      <td>-0.44%</td>\n",
       "    </tr>\n",
       "    <tr>\n",
       "      <th>1</th>\n",
       "      <td>2020-05-21</td>\n",
       "      <td>0.6565</td>\n",
       "      <td>0.6597</td>\n",
       "      <td>0.6600</td>\n",
       "      <td>0.6548</td>\n",
       "      <td>-0.50%</td>\n",
       "    </tr>\n",
       "    <tr>\n",
       "      <th>2</th>\n",
       "      <td>2020-05-20</td>\n",
       "      <td>0.6598</td>\n",
       "      <td>0.6538</td>\n",
       "      <td>0.6618</td>\n",
       "      <td>0.6525</td>\n",
       "      <td>0.93%</td>\n",
       "    </tr>\n",
       "    <tr>\n",
       "      <th>3</th>\n",
       "      <td>2020-05-19</td>\n",
       "      <td>0.6537</td>\n",
       "      <td>0.6523</td>\n",
       "      <td>0.6586</td>\n",
       "      <td>0.6510</td>\n",
       "      <td>0.20%</td>\n",
       "    </tr>\n",
       "    <tr>\n",
       "      <th>4</th>\n",
       "      <td>2020-05-18</td>\n",
       "      <td>0.6524</td>\n",
       "      <td>0.6425</td>\n",
       "      <td>0.6528</td>\n",
       "      <td>0.6409</td>\n",
       "      <td>1.70%</td>\n",
       "    </tr>\n",
       "  </tbody>\n",
       "</table>\n",
       "</div>"
      ],
      "text/plain": [
       "        Date   Price    Open    High     Low Change %\n",
       "0 2020-05-22  0.6536  0.6565  0.6578  0.6506   -0.44%\n",
       "1 2020-05-21  0.6565  0.6597  0.6600  0.6548   -0.50%\n",
       "2 2020-05-20  0.6598  0.6538  0.6618  0.6525    0.93%\n",
       "3 2020-05-19  0.6537  0.6523  0.6586  0.6510    0.20%\n",
       "4 2020-05-18  0.6524  0.6425  0.6528  0.6409    1.70%"
      ]
     },
     "execution_count": 271,
     "metadata": {},
     "output_type": "execute_result"
    }
   ],
   "source": [
    "df_usd_aud.loc[:, 'Date'] = pd.to_datetime(df_usd_aud.loc[:, 'Date'], format='%b %d, %Y')\n",
    "df_usd_aud.head()"
   ]
  },
  {
   "cell_type": "code",
   "execution_count": 272,
   "metadata": {},
   "outputs": [
    {
     "data": {
      "text/plain": [
       "Index(['Date', 'Price', 'Open', 'High', 'Low', 'Change %'], dtype='object')"
      ]
     },
     "execution_count": 272,
     "metadata": {},
     "output_type": "execute_result"
    }
   ],
   "source": [
    "df_usd_aud.columns"
   ]
  },
  {
   "cell_type": "code",
   "execution_count": 273,
   "metadata": {},
   "outputs": [],
   "source": [
    "df_usd_aud.drop(['Open', 'High', 'Low', 'Change %'], axis=1, inplace=True)"
   ]
  },
  {
   "cell_type": "code",
   "execution_count": 274,
   "metadata": {},
   "outputs": [
    {
     "data": {
      "text/html": [
       "<div>\n",
       "<style scoped>\n",
       "    .dataframe tbody tr th:only-of-type {\n",
       "        vertical-align: middle;\n",
       "    }\n",
       "\n",
       "    .dataframe tbody tr th {\n",
       "        vertical-align: top;\n",
       "    }\n",
       "\n",
       "    .dataframe thead th {\n",
       "        text-align: right;\n",
       "    }\n",
       "</style>\n",
       "<table border=\"1\" class=\"dataframe\">\n",
       "  <thead>\n",
       "    <tr style=\"text-align: right;\">\n",
       "      <th></th>\n",
       "      <th>Date</th>\n",
       "      <th>usd_aud</th>\n",
       "    </tr>\n",
       "  </thead>\n",
       "  <tbody>\n",
       "    <tr>\n",
       "      <th>0</th>\n",
       "      <td>2020-05-22</td>\n",
       "      <td>0.6536</td>\n",
       "    </tr>\n",
       "    <tr>\n",
       "      <th>1</th>\n",
       "      <td>2020-05-21</td>\n",
       "      <td>0.6565</td>\n",
       "    </tr>\n",
       "    <tr>\n",
       "      <th>2</th>\n",
       "      <td>2020-05-20</td>\n",
       "      <td>0.6598</td>\n",
       "    </tr>\n",
       "    <tr>\n",
       "      <th>3</th>\n",
       "      <td>2020-05-19</td>\n",
       "      <td>0.6537</td>\n",
       "    </tr>\n",
       "    <tr>\n",
       "      <th>4</th>\n",
       "      <td>2020-05-18</td>\n",
       "      <td>0.6524</td>\n",
       "    </tr>\n",
       "  </tbody>\n",
       "</table>\n",
       "</div>"
      ],
      "text/plain": [
       "        Date  usd_aud\n",
       "0 2020-05-22   0.6536\n",
       "1 2020-05-21   0.6565\n",
       "2 2020-05-20   0.6598\n",
       "3 2020-05-19   0.6537\n",
       "4 2020-05-18   0.6524"
      ]
     },
     "execution_count": 274,
     "metadata": {},
     "output_type": "execute_result"
    }
   ],
   "source": [
    "df_usd_aud.rename(columns={\"Price\": \"usd_aud\"}, inplace=True)\n",
    "df_usd_aud.head()"
   ]
  },
  {
   "cell_type": "markdown",
   "metadata": {},
   "source": [
    "## Merge to create a single dataframe"
   ]
  },
  {
   "cell_type": "code",
   "execution_count": 275,
   "metadata": {},
   "outputs": [
    {
     "data": {
      "text/plain": [
       "array([datetime.datetime(2020, 5, 18, 0, 0),\n",
       "       datetime.datetime(2020, 5, 19, 0, 0),\n",
       "       datetime.datetime(2020, 5, 20, 0, 0),\n",
       "       datetime.datetime(2020, 5, 21, 0, 0),\n",
       "       datetime.datetime(2020, 5, 22, 0, 0)], dtype=object)"
      ]
     },
     "execution_count": 275,
     "metadata": {},
     "output_type": "execute_result"
    }
   ],
   "source": [
    "base = datetime.datetime(2019, 5, 1)\n",
    "data_rage = np.array([base + datetime.timedelta(days=i) for i in range(388)])\n",
    "data_rage[-5:]"
   ]
  },
  {
   "cell_type": "code",
   "execution_count": 276,
   "metadata": {},
   "outputs": [],
   "source": [
    "# Create dataframe with date range\n",
    "df = pd.DataFrame({'Date':data_rage})"
   ]
  },
  {
   "cell_type": "code",
   "execution_count": 277,
   "metadata": {},
   "outputs": [
    {
     "data": {
      "text/html": [
       "<div>\n",
       "<style scoped>\n",
       "    .dataframe tbody tr th:only-of-type {\n",
       "        vertical-align: middle;\n",
       "    }\n",
       "\n",
       "    .dataframe tbody tr th {\n",
       "        vertical-align: top;\n",
       "    }\n",
       "\n",
       "    .dataframe thead th {\n",
       "        text-align: right;\n",
       "    }\n",
       "</style>\n",
       "<table border=\"1\" class=\"dataframe\">\n",
       "  <thead>\n",
       "    <tr style=\"text-align: right;\">\n",
       "      <th></th>\n",
       "      <th>Date</th>\n",
       "      <th>usd_aud</th>\n",
       "    </tr>\n",
       "  </thead>\n",
       "  <tbody>\n",
       "    <tr>\n",
       "      <th>381</th>\n",
       "      <td>2020-05-16</td>\n",
       "      <td>NaN</td>\n",
       "    </tr>\n",
       "    <tr>\n",
       "      <th>382</th>\n",
       "      <td>2020-05-17</td>\n",
       "      <td>NaN</td>\n",
       "    </tr>\n",
       "    <tr>\n",
       "      <th>383</th>\n",
       "      <td>2020-05-18</td>\n",
       "      <td>0.6524</td>\n",
       "    </tr>\n",
       "    <tr>\n",
       "      <th>384</th>\n",
       "      <td>2020-05-19</td>\n",
       "      <td>0.6537</td>\n",
       "    </tr>\n",
       "    <tr>\n",
       "      <th>385</th>\n",
       "      <td>2020-05-20</td>\n",
       "      <td>0.6598</td>\n",
       "    </tr>\n",
       "    <tr>\n",
       "      <th>386</th>\n",
       "      <td>2020-05-21</td>\n",
       "      <td>0.6565</td>\n",
       "    </tr>\n",
       "    <tr>\n",
       "      <th>387</th>\n",
       "      <td>2020-05-22</td>\n",
       "      <td>0.6536</td>\n",
       "    </tr>\n",
       "  </tbody>\n",
       "</table>\n",
       "</div>"
      ],
      "text/plain": [
       "          Date  usd_aud\n",
       "381 2020-05-16      NaN\n",
       "382 2020-05-17      NaN\n",
       "383 2020-05-18   0.6524\n",
       "384 2020-05-19   0.6537\n",
       "385 2020-05-20   0.6598\n",
       "386 2020-05-21   0.6565\n",
       "387 2020-05-22   0.6536"
      ]
     },
     "execution_count": 277,
     "metadata": {},
     "output_type": "execute_result"
    }
   ],
   "source": [
    "# Add in exchange rate\n",
    "df = df.merge(df_usd_aud, how='left')\n",
    "df.tail(7)"
   ]
  },
  {
   "cell_type": "code",
   "execution_count": 278,
   "metadata": {},
   "outputs": [
    {
     "data": {
      "text/html": [
       "<div>\n",
       "<style scoped>\n",
       "    .dataframe tbody tr th:only-of-type {\n",
       "        vertical-align: middle;\n",
       "    }\n",
       "\n",
       "    .dataframe tbody tr th {\n",
       "        vertical-align: top;\n",
       "    }\n",
       "\n",
       "    .dataframe thead th {\n",
       "        text-align: right;\n",
       "    }\n",
       "</style>\n",
       "<table border=\"1\" class=\"dataframe\">\n",
       "  <thead>\n",
       "    <tr style=\"text-align: right;\">\n",
       "      <th></th>\n",
       "      <th>Date</th>\n",
       "      <th>usd_aud</th>\n",
       "      <th>Fuel_price</th>\n",
       "    </tr>\n",
       "  </thead>\n",
       "  <tbody>\n",
       "    <tr>\n",
       "      <th>381</th>\n",
       "      <td>2020-05-16</td>\n",
       "      <td>NaN</td>\n",
       "      <td>84.7</td>\n",
       "    </tr>\n",
       "    <tr>\n",
       "      <th>382</th>\n",
       "      <td>2020-05-17</td>\n",
       "      <td>NaN</td>\n",
       "      <td>84.7</td>\n",
       "    </tr>\n",
       "    <tr>\n",
       "      <th>383</th>\n",
       "      <td>2020-05-18</td>\n",
       "      <td>0.6524</td>\n",
       "      <td>84.7</td>\n",
       "    </tr>\n",
       "    <tr>\n",
       "      <th>384</th>\n",
       "      <td>2020-05-19</td>\n",
       "      <td>0.6537</td>\n",
       "      <td>86.7</td>\n",
       "    </tr>\n",
       "    <tr>\n",
       "      <th>385</th>\n",
       "      <td>2020-05-20</td>\n",
       "      <td>0.6598</td>\n",
       "      <td>86.7</td>\n",
       "    </tr>\n",
       "    <tr>\n",
       "      <th>386</th>\n",
       "      <td>2020-05-21</td>\n",
       "      <td>0.6565</td>\n",
       "      <td>88.7</td>\n",
       "    </tr>\n",
       "    <tr>\n",
       "      <th>387</th>\n",
       "      <td>2020-05-22</td>\n",
       "      <td>0.6536</td>\n",
       "      <td>88.7</td>\n",
       "    </tr>\n",
       "  </tbody>\n",
       "</table>\n",
       "</div>"
      ],
      "text/plain": [
       "          Date  usd_aud  Fuel_price\n",
       "381 2020-05-16      NaN        84.7\n",
       "382 2020-05-17      NaN        84.7\n",
       "383 2020-05-18   0.6524        84.7\n",
       "384 2020-05-19   0.6537        86.7\n",
       "385 2020-05-20   0.6598        86.7\n",
       "386 2020-05-21   0.6565        88.7\n",
       "387 2020-05-22   0.6536        88.7"
      ]
     },
     "execution_count": 278,
     "metadata": {},
     "output_type": "execute_result"
    }
   ],
   "source": [
    "# Add in minimum south of river fuel price\n",
    "df = df.merge(fuel_prices_df_sor_daily_min, how='left')\n",
    "df.tail(7)"
   ]
  },
  {
   "cell_type": "code",
   "execution_count": 279,
   "metadata": {},
   "outputs": [
    {
     "data": {
      "text/html": [
       "<div>\n",
       "<style scoped>\n",
       "    .dataframe tbody tr th:only-of-type {\n",
       "        vertical-align: middle;\n",
       "    }\n",
       "\n",
       "    .dataframe tbody tr th {\n",
       "        vertical-align: top;\n",
       "    }\n",
       "\n",
       "    .dataframe thead th {\n",
       "        text-align: right;\n",
       "    }\n",
       "</style>\n",
       "<table border=\"1\" class=\"dataframe\">\n",
       "  <thead>\n",
       "    <tr style=\"text-align: right;\">\n",
       "      <th></th>\n",
       "      <th>Date</th>\n",
       "      <th>usd_aud</th>\n",
       "      <th>Fuel_price</th>\n",
       "      <th>Oil_price</th>\n",
       "    </tr>\n",
       "  </thead>\n",
       "  <tbody>\n",
       "    <tr>\n",
       "      <th>381</th>\n",
       "      <td>2020-05-16</td>\n",
       "      <td>NaN</td>\n",
       "      <td>84.7</td>\n",
       "      <td>NaN</td>\n",
       "    </tr>\n",
       "    <tr>\n",
       "      <th>382</th>\n",
       "      <td>2020-05-17</td>\n",
       "      <td>NaN</td>\n",
       "      <td>84.7</td>\n",
       "      <td>NaN</td>\n",
       "    </tr>\n",
       "    <tr>\n",
       "      <th>383</th>\n",
       "      <td>2020-05-18</td>\n",
       "      <td>0.6524</td>\n",
       "      <td>84.7</td>\n",
       "      <td>31.83</td>\n",
       "    </tr>\n",
       "    <tr>\n",
       "      <th>384</th>\n",
       "      <td>2020-05-19</td>\n",
       "      <td>0.6537</td>\n",
       "      <td>86.7</td>\n",
       "      <td>32.36</td>\n",
       "    </tr>\n",
       "    <tr>\n",
       "      <th>385</th>\n",
       "      <td>2020-05-20</td>\n",
       "      <td>0.6598</td>\n",
       "      <td>86.7</td>\n",
       "      <td>33.52</td>\n",
       "    </tr>\n",
       "    <tr>\n",
       "      <th>386</th>\n",
       "      <td>2020-05-21</td>\n",
       "      <td>0.6565</td>\n",
       "      <td>88.7</td>\n",
       "      <td>33.91</td>\n",
       "    </tr>\n",
       "    <tr>\n",
       "      <th>387</th>\n",
       "      <td>2020-05-22</td>\n",
       "      <td>0.6536</td>\n",
       "      <td>88.7</td>\n",
       "      <td>33.25</td>\n",
       "    </tr>\n",
       "  </tbody>\n",
       "</table>\n",
       "</div>"
      ],
      "text/plain": [
       "          Date  usd_aud  Fuel_price  Oil_price\n",
       "381 2020-05-16      NaN        84.7        NaN\n",
       "382 2020-05-17      NaN        84.7        NaN\n",
       "383 2020-05-18   0.6524        84.7      31.83\n",
       "384 2020-05-19   0.6537        86.7      32.36\n",
       "385 2020-05-20   0.6598        86.7      33.52\n",
       "386 2020-05-21   0.6565        88.7      33.91\n",
       "387 2020-05-22   0.6536        88.7      33.25"
      ]
     },
     "execution_count": 279,
     "metadata": {},
     "output_type": "execute_result"
    }
   ],
   "source": [
    "# Add in WTI oil price\n",
    "df = df.merge(oil_df, how='left')\n",
    "df.tail(7)"
   ]
  },
  {
   "cell_type": "code",
   "execution_count": 280,
   "metadata": {},
   "outputs": [
    {
     "data": {
      "text/plain": [
       "(244, 4)"
      ]
     },
     "execution_count": 280,
     "metadata": {},
     "output_type": "execute_result"
    }
   ],
   "source": [
    "# Delete missing data (i.e. weekends)\n",
    "df.dropna(inplace=True)\n",
    "df.shape"
   ]
  },
  {
   "cell_type": "code",
   "execution_count": 281,
   "metadata": {},
   "outputs": [
    {
     "data": {
      "image/png": "[encoded data removed]",
      "text/plain": [
       "<Figure size 432x288 with 3 Axes>"
      ]
     },
     "metadata": {
      "needs_background": "light"
     },
     "output_type": "display_data"
    }
   ],
   "source": [
    "# Let's plot the raw data\n",
    "ax = df.plot(x=\"Date\", y=\"Fuel_price\", legend=False, color=\"b\")\n",
    "ax2 = ax.twinx()\n",
    "df.plot(x=\"Date\", y=\"Oil_price\", ax=ax2, legend=False, color=\"r\")\n",
    "ax3 = ax.twinx()\n",
    "ax3.spines[\"right\"].set_position((\"axes\", 1.15))\n",
    "df.plot(x=\"Date\", y=\"usd_aud\", ax=ax3, legend=False, color=\"g\")\n",
    "\n",
    "ax.set_xlabel(\"Date\")\n",
    "ax.set_ylabel(\"Fuel price\")\n",
    "ax2.set_ylabel(\"Oil price\")\n",
    "ax3.set_ylabel(\"USD to AUD\")\n",
    "\n",
    "ax.yaxis.label.set_color(color=\"b\")\n",
    "ax2.yaxis.label.set_color(color=\"r\")\n",
    "ax3.yaxis.label.set_color(color=\"g\")\n",
    "\n",
    "ax.figure.legend(bbox_to_anchor=(0.11, 0.2), loc='lower left')\n",
    "plt.show()"
   ]
  },
  {
   "cell_type": "code",
   "execution_count": 282,
   "metadata": {},
   "outputs": [
    {
     "name": "stdout",
     "output_type": "stream",
     "text": [
      "Data saved.\n"
     ]
    }
   ],
   "source": [
    "df.to_pickle('data.pkl')\n",
    "print('Data saved.')"
   ]
  },
  {
   "cell_type": "code",
   "execution_count": null,
   "metadata": {},
   "outputs": [],
   "source": []
  }
 ],
 "metadata": {
  "kernelspec": {
   "display_name": "Python 3",
   "language": "python",
   "name": "python3"
  },
  "language_info": {
   "codemirror_mode": {
    "name": "ipython",
    "version": 3
   },
   "file_extension": ".py",
   "mimetype": "text/x-python",
   "name": "python",
   "nbconvert_exporter": "python",
   "pygments_lexer": "ipython3",
   "version": "3.7.7"
  }
 },
 "nbformat": 4,
 "nbformat_minor": 4
}
